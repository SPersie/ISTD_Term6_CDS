{
 "cells": [
  {
   "cell_type": "code",
   "execution_count": 32,
   "metadata": {},
   "outputs": [],
   "source": [
    "from __future__ import print_function\n",
    "import numpy as np\n",
    "import keras\n",
    "from keras.datasets import reuters, imdb\n",
    "from keras.models import Sequential\n",
    "from keras.layers import LSTM, SimpleRNN, GRU, Dense, Dropout, Activation, Embedding\n",
    "from keras.preprocessing.text import Tokenizer\n",
    "from keras.preprocessing import sequence\n",
    "from sklearn.model_selection import train_test_split\n",
    "import pandas as pd"
   ]
  },
  {
   "cell_type": "code",
   "execution_count": 33,
   "metadata": {},
   "outputs": [
    {
     "data": {
      "text/html": [
       "<div>\n",
       "<style scoped>\n",
       "    .dataframe tbody tr th:only-of-type {\n",
       "        vertical-align: middle;\n",
       "    }\n",
       "\n",
       "    .dataframe tbody tr th {\n",
       "        vertical-align: top;\n",
       "    }\n",
       "\n",
       "    .dataframe thead th {\n",
       "        text-align: right;\n",
       "    }\n",
       "</style>\n",
       "<table border=\"1\" class=\"dataframe\">\n",
       "  <thead>\n",
       "    <tr style=\"text-align: right;\">\n",
       "      <th></th>\n",
       "      <th>label</th>\n",
       "      <th>id</th>\n",
       "      <th>date</th>\n",
       "      <th>query</th>\n",
       "      <th>user</th>\n",
       "      <th>text</th>\n",
       "    </tr>\n",
       "  </thead>\n",
       "  <tbody>\n",
       "    <tr>\n",
       "      <th>0</th>\n",
       "      <td>4</td>\n",
       "      <td>1985770747</td>\n",
       "      <td>Sun May 31 17:44:25 PDT 2009</td>\n",
       "      <td>NO_QUERY</td>\n",
       "      <td>vozabala</td>\n",
       "      <td>Getting ready for another week of fun and game...</td>\n",
       "    </tr>\n",
       "    <tr>\n",
       "      <th>1</th>\n",
       "      <td>0</td>\n",
       "      <td>2322735567</td>\n",
       "      <td>Wed Jun 24 23:10:08 PDT 2009</td>\n",
       "      <td>NO_QUERY</td>\n",
       "      <td>liannecab</td>\n",
       "      <td>http://twitpic.com/8cp6u - I want it, sooo bad</td>\n",
       "    </tr>\n",
       "    <tr>\n",
       "      <th>2</th>\n",
       "      <td>0</td>\n",
       "      <td>1972997427</td>\n",
       "      <td>Sat May 30 10:16:49 PDT 2009</td>\n",
       "      <td>NO_QUERY</td>\n",
       "      <td>nadhirarchangel</td>\n",
       "      <td>iloveyousincethe1stgradeitsthefirsttimewemet  ...</td>\n",
       "    </tr>\n",
       "    <tr>\n",
       "      <th>3</th>\n",
       "      <td>0</td>\n",
       "      <td>2230992481</td>\n",
       "      <td>Thu Jun 18 17:53:46 PDT 2009</td>\n",
       "      <td>NO_QUERY</td>\n",
       "      <td>doughamlin</td>\n",
       "      <td>@extendr I can add :skype links but :aim links...</td>\n",
       "    </tr>\n",
       "    <tr>\n",
       "      <th>4</th>\n",
       "      <td>4</td>\n",
       "      <td>2053227537</td>\n",
       "      <td>Sat Jun 06 03:46:32 PDT 2009</td>\n",
       "      <td>NO_QUERY</td>\n",
       "      <td>Mariallama</td>\n",
       "      <td>just woke up at to rain. . . on the plus side ...</td>\n",
       "    </tr>\n",
       "  </tbody>\n",
       "</table>\n",
       "</div>"
      ],
      "text/plain": [
       "   label          id                          date     query             user  \\\n",
       "0      4  1985770747  Sun May 31 17:44:25 PDT 2009  NO_QUERY         vozabala   \n",
       "1      0  2322735567  Wed Jun 24 23:10:08 PDT 2009  NO_QUERY        liannecab   \n",
       "2      0  1972997427  Sat May 30 10:16:49 PDT 2009  NO_QUERY  nadhirarchangel   \n",
       "3      0  2230992481  Thu Jun 18 17:53:46 PDT 2009  NO_QUERY       doughamlin   \n",
       "4      4  2053227537  Sat Jun 06 03:46:32 PDT 2009  NO_QUERY       Mariallama   \n",
       "\n",
       "                                                text  \n",
       "0  Getting ready for another week of fun and game...  \n",
       "1    http://twitpic.com/8cp6u - I want it, sooo bad   \n",
       "2  iloveyousincethe1stgradeitsthefirsttimewemet  ...  \n",
       "3  @extendr I can add :skype links but :aim links...  \n",
       "4  just woke up at to rain. . . on the plus side ...  "
      ]
     },
     "execution_count": 33,
     "metadata": {},
     "output_type": "execute_result"
    }
   ],
   "source": [
    "# load in training/test set\n",
    "data = pd.read_csv('tweets.160k.random.csv', encoding='utf-8')\n",
    "data.head()"
   ]
  },
  {
   "cell_type": "code",
   "execution_count": 34,
   "metadata": {},
   "outputs": [
    {
     "data": {
      "text/plain": [
       "4    80259\n",
       "0    79741\n",
       "Name: label, dtype: int64"
      ]
     },
     "execution_count": 34,
     "metadata": {},
     "output_type": "execute_result"
    }
   ],
   "source": [
    "data['label'].value_counts()"
   ]
  },
  {
   "cell_type": "code",
   "execution_count": 35,
   "metadata": {},
   "outputs": [],
   "source": [
    "vocab_size = 20000\n",
    "tokenizer = Tokenizer(num_words= vocab_size)\n",
    "tokenizer.fit_on_texts(data['text'])\n",
    "sequences = tokenizer.texts_to_sequences(data['text'])\n",
    "tweets = sequence.pad_sequences(sequences, padding='post', maxlen=50)"
   ]
  },
  {
   "cell_type": "code",
   "execution_count": 36,
   "metadata": {},
   "outputs": [
    {
     "data": {
      "text/plain": [
       "array([[ 128,  206,   11, ...,    0,    0,    0],\n",
       "       [  39,  150,   56, ...,    0,    0,    0],\n",
       "       [ 664,    0,    0, ...,    0,    0,    0],\n",
       "       ...,\n",
       "       [ 749,   46,   88, ...,    0,    0,    0],\n",
       "       [  55,    7,   64, ...,    0,    0,    0],\n",
       "       [  97,    3, 2995, ...,    0,    0,    0]], dtype=int32)"
      ]
     },
     "execution_count": 36,
     "metadata": {},
     "output_type": "execute_result"
    }
   ],
   "source": [
    "tweets\n",
    "# labels"
   ]
  },
  {
   "cell_type": "code",
   "execution_count": 37,
   "metadata": {},
   "outputs": [],
   "source": [
    "labels = data['label']\n",
    "labels = labels.replace(4,1) # replace label '4' with '1' to facilitate one-hot encoding\n",
    "x_train, x_test, y_train, y_test = train_test_split(tweets, labels, test_size=0.2)"
   ]
  },
  {
   "cell_type": "code",
   "execution_count": 38,
   "metadata": {},
   "outputs": [
    {
     "name": "stdout",
     "output_type": "stream",
     "text": [
      "128000 train sequences\n",
      "32000 test sequences\n"
     ]
    }
   ],
   "source": [
    "print(len(x_train), 'train sequences')\n",
    "print(len(x_test), 'test sequences')"
   ]
  },
  {
   "cell_type": "code",
   "execution_count": 39,
   "metadata": {},
   "outputs": [],
   "source": [
    "y_train = keras.utils.to_categorical(y_train) # 2 classes\n",
    "y_test = keras.utils.to_categorical(y_test)"
   ]
  },
  {
   "cell_type": "code",
   "execution_count": 40,
   "metadata": {},
   "outputs": [
    {
     "name": "stdout",
     "output_type": "stream",
     "text": [
      "(128000, 50)\n"
     ]
    },
    {
     "data": {
      "text/plain": [
       "array([[  0,   0,   0, ...,   0,   0,   0],\n",
       "       [104,   1,  57, ...,   0,   0,   0],\n",
       "       [ 31, 194, 262, ...,   0,   0,   0],\n",
       "       ...,\n",
       "       [ 19,  46,   2, ...,   0,   0,   0],\n",
       "       [  1,  80,   1, ...,   0,   0,   0],\n",
       "       [599,   1,  20, ...,   0,   0,   0]], dtype=int32)"
      ]
     },
     "execution_count": 40,
     "metadata": {},
     "output_type": "execute_result"
    }
   ],
   "source": [
    "print(x_train.shape)\n",
    "x_train"
   ]
  },
  {
   "cell_type": "code",
   "execution_count": 41,
   "metadata": {},
   "outputs": [],
   "source": [
    " model = Sequential()\n",
    "model.add(Embedding(vocab_size, 128))\n",
    "model.add(SimpleRNN(128))\n",
    "model.add(Dense(2))\n",
    "model.add(Activation('softmax'))"
   ]
  },
  {
   "cell_type": "code",
   "execution_count": 42,
   "metadata": {},
   "outputs": [],
   "source": [
    "model.compile(loss='categorical_crossentropy',\n",
    " optimizer='adam',\n",
    " metrics=['accuracy'])"
   ]
  },
  {
   "cell_type": "code",
   "execution_count": 11,
   "metadata": {},
   "outputs": [
    {
     "name": "stdout",
     "output_type": "stream",
     "text": [
      "Train on 102400 samples, validate on 25600 samples\n",
      "Epoch 1/3\n",
      "102400/102400 [==============================] - 32s 308us/step - loss: 0.5845 - acc: 0.6992 - val_loss: 0.5672 - val_acc: 0.7387\n",
      "Epoch 2/3\n",
      "102400/102400 [==============================] - 31s 300us/step - loss: 0.5157 - acc: 0.7676 - val_loss: 0.5185 - val_acc: 0.7600\n",
      "Epoch 3/3\n",
      "102400/102400 [==============================] - 32s 317us/step - loss: 0.5285 - acc: 0.7523 - val_loss: 0.5445 - val_acc: 0.7390\n"
     ]
    }
   ],
   "source": [
    "history = model.fit(x_train, y_train,\n",
    " batch_size=128,\n",
    " epochs=3,\n",
    " verbose=1,\n",
    " validation_split=0.2)"
   ]
  },
  {
   "cell_type": "code",
   "execution_count": 12,
   "metadata": {},
   "outputs": [
    {
     "name": "stdout",
     "output_type": "stream",
     "text": [
      "32000/32000 [==============================] - 2s 77us/step\n",
      "Test score: 0.5414284701347352\n",
      "Test accuracy: 0.7451875\n"
     ]
    }
   ],
   "source": [
    "score = model.evaluate(x_test, y_test,\n",
    " batch_size=128, verbose=1)\n",
    "print('Test score:', score[0])\n",
    "print('Test accuracy:', score[1])"
   ]
  },
  {
   "cell_type": "markdown",
   "metadata": {},
   "source": [
    "## LSTM"
   ]
  },
  {
   "cell_type": "code",
   "execution_count": 52,
   "metadata": {},
   "outputs": [],
   "source": [
    "model_lstm = Sequential()\n",
    "model_lstm.add(Embedding(vocab_size, 128))\n",
    "model_lstm.add(LSTM(128))\n",
    "model_lstm.add(Dense(2))\n",
    "model_lstm.add(Activation('softmax'))"
   ]
  },
  {
   "cell_type": "code",
   "execution_count": 53,
   "metadata": {},
   "outputs": [],
   "source": [
    "model_lstm.compile(loss='categorical_crossentropy',\n",
    " optimizer='adam',\n",
    " metrics=['accuracy'])"
   ]
  },
  {
   "cell_type": "code",
   "execution_count": 54,
   "metadata": {
    "scrolled": true
   },
   "outputs": [
    {
     "name": "stdout",
     "output_type": "stream",
     "text": [
      "Train on 102400 samples, validate on 25600 samples\n",
      "Epoch 1/3\n",
      "102400/102400 [==============================] - 76s 743us/step - loss: 0.6931 - acc: 0.4987 - val_loss: 0.6931 - val_acc: 0.4984\n",
      "Epoch 2/3\n",
      "102400/102400 [==============================] - 76s 747us/step - loss: 0.6936 - acc: 0.4985 - val_loss: 0.6932 - val_acc: 0.5016\n",
      "Epoch 3/3\n",
      "102400/102400 [==============================] - 75s 732us/step - loss: 0.6935 - acc: 0.4981 - val_loss: 0.6935 - val_acc: 0.4984\n"
     ]
    }
   ],
   "source": [
    "history = model_lstm.fit(x_train, y_train, batch_size=128,\n",
    " epochs=3,\n",
    " verbose=1,\n",
    " validation_split=0.2)"
   ]
  },
  {
   "cell_type": "code",
   "execution_count": 55,
   "metadata": {},
   "outputs": [
    {
     "name": "stdout",
     "output_type": "stream",
     "text": [
      "32000/32000 [==============================] - 6s 174us/step\n",
      "Test score: 0.6931576075553894\n",
      "Test accuracy: 0.5058125\n"
     ]
    }
   ],
   "source": [
    "score_lstm = model_lstm.evaluate(x_test, y_test,\n",
    " batch_size=128, verbose=1)\n",
    "print('Test score:', score_lstm[0])\n",
    "print('Test accuracy:', score_lstm[1])"
   ]
  },
  {
   "cell_type": "markdown",
   "metadata": {},
   "source": [
    "## GRU"
   ]
  },
  {
   "cell_type": "code",
   "execution_count": 56,
   "metadata": {},
   "outputs": [],
   "source": [
    "model_gru = Sequential()\n",
    "model_gru.add(Embedding(vocab_size, 128))\n",
    "model_gru.add(GRU(128))\n",
    "model_gru.add(Dense(2))\n",
    "model_gru.add(Activation('softmax'))"
   ]
  },
  {
   "cell_type": "code",
   "execution_count": 57,
   "metadata": {},
   "outputs": [],
   "source": [
    "model_gru.compile(loss='categorical_crossentropy',\n",
    " optimizer='adam',\n",
    " metrics=['accuracy'])"
   ]
  },
  {
   "cell_type": "code",
   "execution_count": 58,
   "metadata": {},
   "outputs": [
    {
     "name": "stdout",
     "output_type": "stream",
     "text": [
      "Train on 102400 samples, validate on 25600 samples\n",
      "Epoch 1/3\n",
      "102400/102400 [==============================] - 66s 648us/step - loss: 0.6933 - acc: 0.4990 - val_loss: 0.6935 - val_acc: 0.4984\n",
      "Epoch 2/3\n",
      "102400/102400 [==============================] - 65s 632us/step - loss: 0.6932 - acc: 0.5000 - val_loss: 0.6932 - val_acc: 0.5016\n",
      "Epoch 3/3\n",
      "102400/102400 [==============================] - 64s 625us/step - loss: 0.6932 - acc: 0.4986 - val_loss: 0.6932 - val_acc: 0.4984\n"
     ]
    }
   ],
   "source": [
    "history_gru = model_gru.fit(x_train, y_train, batch_size=128,\n",
    " epochs=3,\n",
    " verbose=1,\n",
    " validation_split=0.2)"
   ]
  },
  {
   "cell_type": "code",
   "execution_count": 59,
   "metadata": {},
   "outputs": [
    {
     "name": "stdout",
     "output_type": "stream",
     "text": [
      "32000/32000 [==============================] - 5s 160us/step\n",
      "Test score: 0.6930803761482239\n",
      "Test accuracy: 0.50578125\n"
     ]
    }
   ],
   "source": [
    "score_gru = model_gru.evaluate(x_test, y_test,\n",
    " batch_size=128, verbose=1)\n",
    "print('Test score:', score_gru[0])\n",
    "print('Test accuracy:', score_gru[1])"
   ]
  },
  {
   "cell_type": "code",
   "execution_count": null,
   "metadata": {},
   "outputs": [],
   "source": []
  }
 ],
 "metadata": {
  "kernelspec": {
   "display_name": "Python 3",
   "language": "python",
   "name": "python3"
  },
  "language_info": {
   "codemirror_mode": {
    "name": "ipython",
    "version": 3
   },
   "file_extension": ".py",
   "mimetype": "text/x-python",
   "name": "python",
   "nbconvert_exporter": "python",
   "pygments_lexer": "ipython3",
   "version": "3.6.5"
  }
 },
 "nbformat": 4,
 "nbformat_minor": 2
}
