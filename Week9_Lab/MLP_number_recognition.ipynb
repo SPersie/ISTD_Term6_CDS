{
 "cells": [
  {
   "cell_type": "code",
   "execution_count": 1,
   "metadata": {},
   "outputs": [
    {
     "name": "stderr",
     "output_type": "stream",
     "text": [
      "Using TensorFlow backend.\n"
     ]
    }
   ],
   "source": [
    "from __future__ import print_function\n",
    "import keras\n",
    "from keras.datasets import mnist\n",
    "from keras.models import Sequential\n",
    "from keras.layers import Dense, Dropout\n",
    "from keras.optimizers import RMSprop\n",
    "import matplotlib.pyplot as plt"
   ]
  },
  {
   "cell_type": "code",
   "execution_count": 2,
   "metadata": {},
   "outputs": [
    {
     "name": "stdout",
     "output_type": "stream",
     "text": [
      "(60000, 28, 28)\n",
      "(10000, 28, 28)\n"
     ]
    },
    {
     "data": {
      "image/png": "[encoded data removed]",
      "text/plain": [
       "<Figure size 432x288 with 1 Axes>"
      ]
     },
     "metadata": {
      "needs_background": "light"
     },
     "output_type": "display_data"
    }
   ],
   "source": [
    "# download and load the MNIST dataset\n",
    "(x_train, y_train), (x_test, y_test) = mnist.load_data()\n",
    "print(x_train.shape)\n",
    "print(x_test.shape)\n",
    "plt.imshow(x_train[20], cmap='gray')\n",
    "plt.show()"
   ]
  },
  {
   "cell_type": "code",
   "execution_count": 3,
   "metadata": {},
   "outputs": [
    {
     "name": "stdout",
     "output_type": "stream",
     "text": [
      "Training Set:  60000\n",
      "Test Set: 10000\n"
     ]
    }
   ],
   "source": [
    "x_train = x_train.reshape(60000, 784)\n",
    "x_test = x_test.reshape(10000, 784)\n",
    "x_train = x_train.astype('float32')\n",
    "x_test = x_test.astype('float32')\n",
    "x_train /= 255\n",
    "x_test /= 255\n",
    "print('Training Set: ', x_train.shape[0])\n",
    "print('Test Set:', x_test.shape[0])"
   ]
  },
  {
   "cell_type": "code",
   "execution_count": 4,
   "metadata": {},
   "outputs": [
    {
     "data": {
      "text/plain": [
       "array([1., 0., 0., 0., 0., 0., 0., 0., 0., 0.], dtype=float32)"
      ]
     },
     "execution_count": 4,
     "metadata": {},
     "output_type": "execute_result"
    }
   ],
   "source": [
    "# convert class vectors to binary class matrices\n",
    "y_train = keras.utils.to_categorical(y_train) # 10 classes\n",
    "y_test = keras.utils.to_categorical(y_test)\n",
    "y_train[1]"
   ]
  },
  {
   "cell_type": "code",
   "execution_count": 5,
   "metadata": {},
   "outputs": [],
   "source": [
    "model = Sequential()\n",
    "model.add(Dense(512, activation='relu', input_shape=(784,)))\n",
    "model.add(Dense(512, activation='relu'))\n",
    "model.add(Dropout(0.5))\n",
    "model.add(Dense(10, activation='softmax')) # 10 classes"
   ]
  },
  {
   "cell_type": "code",
   "execution_count": 6,
   "metadata": {},
   "outputs": [
    {
     "name": "stdout",
     "output_type": "stream",
     "text": [
      "_________________________________________________________________\n",
      "Layer (type)                 Output Shape              Param #   \n",
      "=================================================================\n",
      "dense_1 (Dense)              (None, 512)               401920    \n",
      "_________________________________________________________________\n",
      "dense_2 (Dense)              (None, 512)               262656    \n",
      "_________________________________________________________________\n",
      "dropout_1 (Dropout)          (None, 512)               0         \n",
      "_________________________________________________________________\n",
      "dense_3 (Dense)              (None, 10)                5130      \n",
      "=================================================================\n",
      "Total params: 669,706\n",
      "Trainable params: 669,706\n",
      "Non-trainable params: 0\n",
      "_________________________________________________________________\n"
     ]
    }
   ],
   "source": [
    "model.summary()"
   ]
  },
  {
   "cell_type": "code",
   "execution_count": 7,
   "metadata": {},
   "outputs": [],
   "source": [
    "model.compile(loss='categorical_crossentropy',\n",
    " optimizer='adam',\n",
    " metrics=['accuracy'])"
   ]
  },
  {
   "cell_type": "code",
   "execution_count": 8,
   "metadata": {},
   "outputs": [
    {
     "name": "stdout",
     "output_type": "stream",
     "text": [
      "Train on 54000 samples, validate on 6000 samples\n",
      "Epoch 1/10\n",
      "54000/54000 [==============================] - 43s 802us/step - loss: 0.2690 - acc: 0.9188 - val_loss: 0.0966 - val_acc: 0.9698\n",
      "Epoch 2/10\n",
      "54000/54000 [==============================] - 47s 871us/step - loss: 0.1000 - acc: 0.9701 - val_loss: 0.0804 - val_acc: 0.9767\n",
      "Epoch 3/10\n",
      "54000/54000 [==============================] - 48s 880us/step - loss: 0.0665 - acc: 0.9797 - val_loss: 0.0674 - val_acc: 0.9808\n",
      "Epoch 4/10\n",
      "54000/54000 [==============================] - 45s 832us/step - loss: 0.0482 - acc: 0.9845 - val_loss: 0.0720 - val_acc: 0.9783\n",
      "Epoch 5/10\n",
      "54000/54000 [==============================] - 45s 840us/step - loss: 0.0382 - acc: 0.9879 - val_loss: 0.0641 - val_acc: 0.9823\n",
      "Epoch 6/10\n",
      "54000/54000 [==============================] - 45s 838us/step - loss: 0.0309 - acc: 0.9896 - val_loss: 0.0674 - val_acc: 0.9815\n",
      "Epoch 7/10\n",
      "54000/54000 [==============================] - 46s 848us/step - loss: 0.0257 - acc: 0.9914 - val_loss: 0.0645 - val_acc: 0.9823\n",
      "Epoch 8/10\n",
      "54000/54000 [==============================] - 46s 851us/step - loss: 0.0211 - acc: 0.9931 - val_loss: 0.0696 - val_acc: 0.9817\n",
      "Epoch 9/10\n",
      "54000/54000 [==============================] - 45s 832us/step - loss: 0.0181 - acc: 0.9939 - val_loss: 0.0686 - val_acc: 0.98270s - loss: 0.0181 - acc: 0\n",
      "Epoch 10/10\n",
      "54000/54000 [==============================] - 44s 815us/step - loss: 0.0199 - acc: 0.9933 - val_loss: 0.0604 - val_acc: 0.9867\n"
     ]
    }
   ],
   "source": [
    "history = model.fit(x_train, y_train,\n",
    " batch_size=128,\n",
    " epochs=10,\n",
    " verbose=1,\n",
    " validation_split=0.1)"
   ]
  },
  {
   "cell_type": "code",
   "execution_count": 9,
   "metadata": {},
   "outputs": [
    {
     "name": "stdout",
     "output_type": "stream",
     "text": [
      "Loss: 0.06966674756136526\n",
      "Accuracy: 0.9823\n"
     ]
    }
   ],
   "source": [
    "score = model.evaluate(x_test, y_test, verbose=0)\n",
    "print('Loss:', score[0])\n",
    "print('Accuracy:', score[1])"
   ]
  },
  {
   "cell_type": "code",
   "execution_count": null,
   "metadata": {},
   "outputs": [],
   "source": []
  }
 ],
 "metadata": {
  "kernelspec": {
   "display_name": "Python 3",
   "language": "python",
   "name": "python3"
  },
  "language_info": {
   "codemirror_mode": {
    "name": "ipython",
    "version": 3
   },
   "file_extension": ".py",
   "mimetype": "text/x-python",
   "name": "python",
   "nbconvert_exporter": "python",
   "pygments_lexer": "ipython3",
   "version": "3.6.7"
  }
 },
 "nbformat": 4,
 "nbformat_minor": 2
}
